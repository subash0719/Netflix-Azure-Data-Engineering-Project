{
 "cells": [
  {
   "cell_type": "markdown",
   "metadata": {
    "application/vnd.databricks.v1+cell": {
     "cellMetadata": {},
     "inputWidgets": {},
     "nuid": "f14323e6-a857-45ba-bf6c-573f012e76ac",
     "showTitle": false,
     "tableResultSettingsMap": {},
     "title": ""
    }
   },
   "source": [
    "## Silver notebook lookup tables"
   ]
  },
  {
   "cell_type": "markdown",
   "metadata": {
    "application/vnd.databricks.v1+cell": {
     "cellMetadata": {},
     "inputWidgets": {},
     "nuid": "cac9d729-ac39-4ab2-97b9-60ff97c4ee52",
     "showTitle": false,
     "tableResultSettingsMap": {},
     "title": ""
    }
   },
   "source": [
    "### Parameters"
   ]
  },
  {
   "cell_type": "code",
   "execution_count": 0,
   "metadata": {
    "application/vnd.databricks.v1+cell": {
     "cellMetadata": {
      "byteLimit": 2048000,
      "rowLimit": 10000
     },
     "inputWidgets": {},
     "nuid": "27be4e96-b317-4ecf-bbd9-6cab9c5e0fac",
     "showTitle": false,
     "tableResultSettingsMap": {},
     "title": ""
    }
   },
   "outputs": [],
   "source": [
    "dbutils.widgets.text('sourcefolder', 'netflix_directors')\n",
    "dbutils.widgets.text('targetfolder', 'netflix_directors')"
   ]
  },
  {
   "cell_type": "markdown",
   "metadata": {
    "application/vnd.databricks.v1+cell": {
     "cellMetadata": {},
     "inputWidgets": {},
     "nuid": "8b1df2e6-dbb4-4141-9b4c-0e4f1074ef85",
     "showTitle": false,
     "tableResultSettingsMap": {},
     "title": ""
    }
   },
   "source": [
    "### Variables"
   ]
  },
  {
   "cell_type": "code",
   "execution_count": 0,
   "metadata": {
    "application/vnd.databricks.v1+cell": {
     "cellMetadata": {
      "byteLimit": 2048000,
      "rowLimit": 10000
     },
     "inputWidgets": {},
     "nuid": "8de71352-bfe0-4cdd-a53a-bb1588861062",
     "showTitle": false,
     "tableResultSettingsMap": {},
     "title": ""
    }
   },
   "outputs": [],
   "source": [
    "var_src_folder = dbutils.widgets.get('sourcefolder')\n",
    "var_trg_folder = dbutils.widgets.get('targetfolder')  "
   ]
  },
  {
   "cell_type": "markdown",
   "metadata": {
    "application/vnd.databricks.v1+cell": {
     "cellMetadata": {},
     "inputWidgets": {},
     "nuid": "51b32ccd-77dd-430b-8241-3d54b7314525",
     "showTitle": false,
     "tableResultSettingsMap": {},
     "title": ""
    }
   },
   "source": [
    "#### Reading a file "
   ]
  },
  {
   "cell_type": "code",
   "execution_count": 0,
   "metadata": {
    "application/vnd.databricks.v1+cell": {
     "cellMetadata": {
      "byteLimit": 2048000,
      "rowLimit": 10000
     },
     "inputWidgets": {},
     "nuid": "df93f175-5187-465d-af6c-3c5830bceedd",
     "showTitle": false,
     "tableResultSettingsMap": {},
     "title": ""
    }
   },
   "outputs": [],
   "source": [
    "df = spark.read.format('csv')\\\n",
    "          .option('header', True)\\\n",
    "          .option('inferSchema', True)\\\n",
    "          .load(f'abfss://bronze@netflixprojectdlsubash.dfs.core.windows.net/{var_src_folder}')"
   ]
  },
  {
   "cell_type": "code",
   "execution_count": 0,
   "metadata": {
    "application/vnd.databricks.v1+cell": {
     "cellMetadata": {
      "byteLimit": 2048000,
      "rowLimit": 10000
     },
     "inputWidgets": {},
     "nuid": "abad7057-46e5-404d-9d9b-8dafb27e5d0a",
     "showTitle": false,
     "tableResultSettingsMap": {},
     "title": ""
    }
   },
   "outputs": [
    {
     "output_type": "stream",
     "name": "stdout",
     "output_type": "stream",
     "text": [
      "+----------------------+--------+\n|director              |show_id |\n+----------------------+--------+\n|Richard Finn          |81145628|\n|Fernando Lebrija      |80125979|\n|Gabe Ibáñez           |70304989|\n|Rodrigo Toro          |80164077|\n|Henrik Ruben Genz     |70304990|\n|José Miguel Contreras |80169755|\n|Daniel Alfredson      |70299204|\n|Munjal Shroff         |80182483|\n|Munjal Shroff         |80182596|\n|Tilak Shetty          |80182482|\n|Tilak Shetty          |80182597|\n|Munjal Shroff         |80182621|\n|Gaspar Noé            |80057969|\n|Tom O'Brien           |80060297|\n|Antoine Bardou-Jacquet|80046728|\n|Mitch Dickman         |80046727|\n|Brad Anderson         |70304988|\n|Austin Stark          |80057700|\n|Hannah Fidell         |80045922|\n|Madeleine Gavin       |80203094|\n+----------------------+--------+\nonly showing top 20 rows\n\n"
     ]
    }
   ],
   "source": [
    "df.show(truncate=False)"
   ]
  },
  {
   "cell_type": "markdown",
   "metadata": {
    "application/vnd.databricks.v1+cell": {
     "cellMetadata": {},
     "inputWidgets": {},
     "nuid": "34d9bf95-2772-4f04-ae01-ba4369e5f7f7",
     "showTitle": false,
     "tableResultSettingsMap": {},
     "title": ""
    }
   },
   "source": [
    "#### writing a file"
   ]
  },
  {
   "cell_type": "code",
   "execution_count": 0,
   "metadata": {
    "application/vnd.databricks.v1+cell": {
     "cellMetadata": {
      "byteLimit": 2048000,
      "rowLimit": 10000
     },
     "inputWidgets": {},
     "nuid": "f7ef5c4d-51e2-4291-b075-5438ce95d2de",
     "showTitle": false,
     "tableResultSettingsMap": {},
     "title": ""
    }
   },
   "outputs": [],
   "source": [
    "df.write.format('delta')\\\n",
    "         .mode('append')\\\n",
    "         .option('path', f'abfss://silver@netflixprojectdlsubash.dfs.core.windows.net/{var_trg_folder}')\\\n",
    "         .save()\n",
    "            "
   ]
  },
  {
   "cell_type": "code",
   "execution_count": 0,
   "metadata": {
    "application/vnd.databricks.v1+cell": {
     "cellMetadata": {},
     "inputWidgets": {},
     "nuid": "f3ba0559-4ecb-48ca-baf9-5c5762b83f91",
     "showTitle": false,
     "tableResultSettingsMap": {},
     "title": ""
    }
   },
   "outputs": [],
   "source": []
  }
 ],
 "metadata": {
  "application/vnd.databricks.v1+notebook": {
   "computePreferences": null,
   "dashboards": [],
   "environmentMetadata": {
    "base_environment": "",
    "environment_version": "2"
   },
   "language": "python",
   "notebookMetadata": {
    "pythonIndentUnit": 4
   },
   "notebookName": "02_Bronze_to_Silver",
   "widgets": {
    "sourcefolder": {
     "currentValue": "netflix_directors",
     "nuid": "3ac31789-9019-495a-9c5a-5d9d28962888",
     "typedWidgetInfo": {
      "autoCreated": false,
      "defaultValue": "netflix_directors",
      "label": null,
      "name": "sourcefolder",
      "options": {
       "widgetDisplayType": "Text",
       "validationRegex": null
      },
      "parameterDataType": "String"
     },
     "widgetInfo": {
      "widgetType": "text",
      "defaultValue": "netflix_directors",
      "label": null,
      "name": "sourcefolder",
      "options": {
       "widgetType": "text",
       "autoCreated": false,
       "validationRegex": null
      }
     }
    },
    "targetfolder": {
     "currentValue": "netflix_directors",
     "nuid": "5e2665b0-bd1e-48da-85f9-bf7b35fbcc53",
     "typedWidgetInfo": {
      "autoCreated": false,
      "defaultValue": "netflix_directors",
      "label": null,
      "name": "targetfolder",
      "options": {
       "widgetDisplayType": "Text",
       "validationRegex": null
      },
      "parameterDataType": "String"
     },
     "widgetInfo": {
      "widgetType": "text",
      "defaultValue": "netflix_directors",
      "label": null,
      "name": "targetfolder",
      "options": {
       "widgetType": "text",
       "autoCreated": false,
       "validationRegex": null
      }
     }
    }
   }
  },
  "language_info": {
   "name": "python"
  }
 },
 "nbformat": 4,
 "nbformat_minor": 0
}